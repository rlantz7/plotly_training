{
 "cells": [
  {
   "cell_type": "markdown",
   "metadata": {},
   "source": [
    "# Python Basics\n",
    "From the [python.org executive summary](https://www.python.org/doc/essays/blurb/):\n",
    "> Python is an interpreted, object-oriented, high-level programming language with dynamic semantics. Its high-level built in data structures, combined with dynamic typing and dynamic binding, make it very attractive for Rapid Application Development, as well as for use as a scripting or glue language to connect existing components together. Python's simple, easy to learn syntax emphasizes readability and therefore reduces the cost of program maintenance. Python supports modules and packages, which encourages program modularity and code reuse. The Python interpreter and the extensive standard library are available in source or binary form without charge for all major platforms, and can be freely distributed.\n",
    "\n",
    "A Jupyter Notebook is a great way to write data science scripts because it combines code cells with markdown cells, making it possible to create reports that are dynamic, styled, and interacive.  Jupyter Notebooks (formerly IPython Notebooks) come as part of the Anaconda Distribution that includes lots of other great packages.  The Anaconda distribution is the easiest way to get started with data science in Python, and includes as part of the base distribution `pandas`, `scikit-learn`, and `numpy`."
   ]
  },
  {
   "cell_type": "markdown",
   "metadata": {},
   "source": [
    "## Basic variable types and operations\n",
    "There are categories of variable types that you can define names for, including strings (`str`), integers (`int`), floats (`float`), as well as collections includings lists and dictionaries (which we'll get into a little later).  All of these variables are objects that have methods associated with them out of the box.\n",
    "As with any programmning language, Python comes with certain functions baked in.  The way a function works (or even if it works at all) will depend on what type of object you're applying it to.  For instance below I'll define a few variables, and then try to do some stuff with them."
   ]
  },
  {
   "cell_type": "code",
   "execution_count": null,
   "metadata": {
    "collapsed": false
   },
   "outputs": [],
   "source": [
    "x = 2 # Note that Python will infer the type of object\n",
    "y = 3\n",
    "my_string = 'Test'\n",
    "your_string = 'Yours'\n",
    "z = 3.5\n",
    "print(type(x))\n",
    "print(type(my_string))\n",
    "print(type(z))"
   ]
  },
  {
   "cell_type": "code",
   "execution_count": null,
   "metadata": {
    "collapsed": false
   },
   "outputs": [],
   "source": [
    "x + y\n",
    "my_string + your_string\n",
    "x + z"
   ]
  },
  {
   "cell_type": "markdown",
   "metadata": {},
   "source": [
    "The reason the last result is the only thing that showed up is that we didn't use `print()` so the Notebook assumes that you just want an interactive mode.  You can tell that by the `Out[]`."
   ]
  },
  {
   "cell_type": "code",
   "execution_count": null,
   "metadata": {
    "collapsed": false
   },
   "outputs": [],
   "source": [
    "print(x + y)\n",
    "print(my_string + your_string)\n",
    "print(x + z)"
   ]
  },
  {
   "cell_type": "markdown",
   "metadata": {},
   "source": [
    "Now let's break something..."
   ]
  },
  {
   "cell_type": "code",
   "execution_count": null,
   "metadata": {
    "collapsed": false
   },
   "outputs": [],
   "source": [
    "num_string = '2.171828'\n",
    "num = float(num_string)\n",
    "print(x + num)\n",
    "#x + my_string"
   ]
  },
  {
   "cell_type": "markdown",
   "metadata": {},
   "source": [
    "There are a couple skills that will serve you VERY well when programming for data science.  \n",
    "* Reading documentation\n",
    "* Searching StackOverflow\n",
    "* Parsing error messages\n",
    "\n",
    "Error messages are not always understandable like the one above... Google is your friend.  What's going on with this error?  Basically, `+` means different things to different object types (ie. addition for numeric types, and concatenate for strings), and Python doesn't know which kind you want.  Now for some more unexpected results.  First guess what you think the result will be, and then type it in and execute. \n",
    "```Python\n",
    "print(x/z)\n",
    "print(x/y)\n",
    "```"
   ]
  },
  {
   "cell_type": "code",
   "execution_count": null,
   "metadata": {
    "collapsed": true
   },
   "outputs": [],
   "source": [
    "### Type the commands in this cell."
   ]
  },
  {
   "cell_type": "markdown",
   "metadata": {},
   "source": [
    "## Collections\n",
    "The three main collections that are part of base Python are `list`, `tuple`, and `dict`.  A `list` is a holder for generic objects that allows you to iterate through the objects.  Objects can be of any type, are ordered, and can repeat elements.  A `tuple` is like a list, but, once created cannot be updated.  Lists are mutable, tuples are immutable.  A dictionary (`dict`) is a key-value collection that is unordered and allows for by-name reference to the data contained in the value.  You can have nested lists and dictionaries. "
   ]
  },
  {
   "cell_type": "code",
   "execution_count": null,
   "metadata": {
    "collapsed": false
   },
   "outputs": [],
   "source": [
    "# The common collections can be defined their own special brackets for convenience\n",
    "\n",
    "# List example\n",
    "\n",
    "my_list = ['a', 'b', 'c']\n",
    "\n",
    "# Tuple examples\n",
    "\n",
    "my_tup = ('a', 1)\n",
    "\n",
    "# Dictionary examples\n",
    "\n",
    "my_dict = {'a': 1, 'b': 2}\n",
    "\n",
    "print(my_list[1])\n",
    "print(my_dict['a'])\n",
    "print(my_dict[my_list[1]])"
   ]
  },
  {
   "cell_type": "markdown",
   "metadata": {},
   "source": [
    "You can type cast objects, and if Python can figure out to __*convert*__ from one to the other it will convert it from one to the other.  Below, try experimenting with type casting.  To get started, try:\n",
    "```python\n",
    "print(float(x))\n",
    "print(list(my_tup))\n",
    "print(list(my_dict))\n",
    "```"
   ]
  },
  {
   "cell_type": "code",
   "execution_count": null,
   "metadata": {
    "collapsed": false
   },
   "outputs": [],
   "source": [
    "### Experiment with type casting here\n",
    "print(list(my_dict.values()))"
   ]
  },
  {
   "cell_type": "markdown",
   "metadata": {},
   "source": [
    "Before we move on from collections it's worth noting that there are lots (and lots and lots) of convenience functions available in Python.  For instance, let's say you have two lists, one that contains keys and another that contains values, and you need to get them into a dictionary object.  You could loop through (as we'll do below), but Python anticipates this sort of thing, and gives us the zip command."
   ]
  },
  {
   "cell_type": "code",
   "execution_count": null,
   "metadata": {
    "collapsed": false
   },
   "outputs": [],
   "source": [
    "keys = ['a', 'b', 'c']\n",
    "vals = [1, 2, 3]\n",
    "zipped = zip(keys, vals)\n",
    "kv_dict = dict(zipped)\n",
    "print(kv_dict)\n",
    "# Of course we could do that in all one line\n",
    "print(dict(zip(keys, vals)))"
   ]
  },
  {
   "cell_type": "markdown",
   "metadata": {},
   "source": [
    "## Control flow basics\n",
    "By combining relatively simple logic and iteration through collections we can do some powerful things with our data.  We'll go over `if-then` and `for` loops today.  \n",
    "### `if - then` syntax\n",
    "An `if-then` block is merely a way to tell the script to only execute this code if a certain condition is met.  Python's syntax for this is pretty simple, and requires you to learn two things about it's interpreter.  First, the end of your conditional statement should end with a colon (:) character.  Second, all of the code that you want to execute should be on the lines that follow that colon, and end when you stop indenting the lines.  \n",
    "```python\n",
    "if x < y:\n",
    "    print(\"The value of y is:\")\n",
    "    print(y)\n",
    "```\n",
    "You could also easily tell it to do something `else` if the condition is false.\n",
    "```python\n",
    "if x > y:\n",
    "    print(\"The value of y is:\")\n",
    "    print(y)\n",
    "    y = y - 1\n",
    "else:\n",
    "    print(\"The value of y is: \" + str(y))\n",
    "```\n",
    "The conditional logic is complete with `and`, `or`, and `not` operations available.  Finally, you can chain logical statements together with `elif` in between the `if` and the concluding `else`.\n",
    "```python\n",
    "if x < y:\n",
    "    print(\"The value of y is:\")\n",
    "    print(y)\n",
    "    y = y - 1\n",
    "elif y < z and x <= z:\n",
    "    print(\"The %f is the value of z.\" % z)\n",
    "    y = y + 1\n",
    "else:\n",
    "    print(\"The value of y is: \" + str(y))\n",
    "```\n",
    "Note that at most one of those blocks of code will execute.  It will execute the first code block whose condition is `True`.  If it gets to the end, and none of them is `True` then it'll execute the `else` portion.  If there is no `else` block then none of that code will execute.\n",
    "\n",
    "| Operator      | Description                                      |\n",
    "|:-------------:|:------------------------------------------------ |\n",
    "| <, >, <=, >=  | Less/Greater than, Less/Greater than or equal to |\n",
    "| ==, !=        | Equal to, Not equal to                           |\n",
    "| not           | Logical not... that is reverses the truth        |\n",
    "| and, or       | Logical and, Logical or                          |\n",
    "\n",
    "### `for` loop syntax\n",
    "Loops are a way to iteratively complete a block of code.  They run until a certain condition is met.  In the case of a `for` loop, it executes the proscribed code for each item in a collection.  As a contrast, a `while` loop executes code until a condition is no longer `True`.  A `for` loop also takes advantage of the colon, indent syntax.  For instance:\n",
    "```python\n",
    "for m in my_list:\n",
    "    print(m)\n",
    "```\n",
    "In this case the loop isn't doing anything interesting.  Let's say we wanted to take a list of numbers and replace each element with it's value times 2.  Type this code into the block below and let's talk about what's going on.\n",
    "```python\n",
    "numbers = range(5)\n",
    "print(numbers)\n",
    "for i, n in enumerate(numbers):\n",
    "    numbers[i] = n * 2\n",
    "print(numbers)\n",
    "```"
   ]
  },
  {
   "cell_type": "code",
   "execution_count": null,
   "metadata": {
    "collapsed": false
   },
   "outputs": [],
   "source": [
    "### Recreate what's above here"
   ]
  },
  {
   "cell_type": "markdown",
   "metadata": {},
   "source": [
    "## Reading and writing data basics\n",
    "There are a TON of ways to get data in and out of Python.  The most basic is `read` and `write`.  If we're in the directory where our file exists we just need to open it and then assign it to an appropriate data structure.  "
   ]
  },
  {
   "cell_type": "code",
   "execution_count": null,
   "metadata": {
    "collapsed": false
   },
   "outputs": [],
   "source": [
    "with open(\"simple_data.txt\") as simp:\n",
    "    lines = simp.readlines()\n",
    "print(lines)\n"
   ]
  },
  {
   "cell_type": "markdown",
   "metadata": {},
   "source": [
    "Those '\\n' characters are problematic.  All `readlines()` is doing is making the (more or less) raw contents of each line into an item in a list.  By using something called list comprehension I can turn my text file into a list of numbers.  Let's talk about this line by line."
   ]
  },
  {
   "cell_type": "code",
   "execution_count": null,
   "metadata": {
    "collapsed": false
   },
   "outputs": [],
   "source": [
    "with open(\"simple_data.txt\", 'r') as simp:\n",
    "    data = [int(i.strip()) for i in simp.readlines()]\n",
    "print(data)"
   ]
  },
  {
   "cell_type": "markdown",
   "metadata": {},
   "source": [
    "Now let's say that I wanted to do something with those numbers, and write the results to a new file."
   ]
  },
  {
   "cell_type": "code",
   "execution_count": null,
   "metadata": {
    "collapsed": true
   },
   "outputs": [],
   "source": [
    "with open(\"simple_output.txt\", 'w') as out:\n",
    "    for d in data:\n",
    "        result = d ** 3\n",
    "        out.write(str(result) + '\\n') # note that we could use writeline()\n"
   ]
  },
  {
   "cell_type": "markdown",
   "metadata": {},
   "source": [
    "Reading and writing custom data formats is beyond our basic introduction, but check out the `csv` and `json` modules that can help.  Today we'll be using `pandas` so I won't get into them others here.\n",
    "### Problem #1\n",
    "Using the file `big_data.txt`, count the numbers that are greater than 3 in that data set. (hint: `count += 1` will increment your counter by 1)."
   ]
  },
  {
   "cell_type": "code",
   "execution_count": null,
   "metadata": {
    "collapsed": false
   },
   "outputs": [],
   "source": [
    "count = 0 \n",
    "with open(\"big_data.txt\", \"r\") as big:\n",
    "    data = [int(i.strip()) for i in big.readlines()]\n",
    "for d in data:\n",
    "    if d > 3:\n",
    "        count += 1\n",
    "print(count)"
   ]
  },
  {
   "cell_type": "markdown",
   "metadata": {},
   "source": [
    "# Pandas\n",
    "`pandas` is a library to handle structured row-column data for the purpose of analysis and modeling.  It's part of the base installation of the Anaconda distribution.  The main object is a `pandas` `DataFrame()`, which is essentially a row-column data store.  Each columnn is a `Series()` object which can be treated as a stand-alone object. \n",
    "To use a non-base package we have to import it, which we do like so:\n",
    "```python \n",
    "import pandas as pd\n",
    "```\n",
    "The `as` statement there is unnecessary, but helpful to lessen keystrokes.  Think of it as a nickname for the package.  In order to save memory we could also just import part of a package, like:\n",
    "```python\n",
    "from random import randint\n",
    "import matplotlib.pyplot as plt\n",
    "```\n",
    "We'll take a look at a simple data set that's based on the World Bank's World Development Indicators that I pulled a year and a half ago (read: it's not up to date, and I did a lot of munging on it already).  "
   ]
  },
  {
   "cell_type": "code",
   "execution_count": null,
   "metadata": {
    "collapsed": true
   },
   "outputs": [],
   "source": [
    "import pandas as pd\n",
    "bDF = pd.read_csv(r'builtDF.csv', encoding = \"ISO-8859-1\") # A dataset that I've curated\n",
    "descriptions = pd.read_csv(r'wdiSeries.csv', encoding = \"ISO-8859-1\") # Descriptions of each field name\n",
    "desc_dict = descriptions.set_index('Code')['Name'].to_dict()"
   ]
  },
  {
   "cell_type": "markdown",
   "metadata": {},
   "source": [
    "The first step to anything data related is to munge it.  That's a general term for preparing the data for further analysis.  `pandas` can be a great tool for simple munging, though it's not recommended if your dataset is really big and/or your munge requirement is computationally complex.  How big or complex depends on the resources you have.  The problem is that `pandas` is robust, and thus not necessarily memory efficient (though getting more so all the time).  To munge this data I'm going to define a simple function using the `def` and `return` keywords.  Let's talk about what this does."
   ]
  },
  {
   "cell_type": "code",
   "execution_count": null,
   "metadata": {
    "collapsed": false
   },
   "outputs": [],
   "source": [
    "import numpy as np\n",
    "\n",
    "def check_complete(ser):\n",
    "    '''\n",
    "    this function returns true if the series is greater than 90% complete and false otherwise.\n",
    "    '''\n",
    "    l = len(ser)\n",
    "    isNaN = np.sum(pd.isnull(ser))\n",
    "    if isNaN/float(l) > 0.1:\n",
    "        return False\n",
    "    else:\n",
    "        return True\n",
    "    \n",
    "keep = bDF.apply(check_complete, axis = 0)\n",
    "\n",
    "print(bDF.shape)\n",
    "bDF_keep = bDF.iloc[:,keep.tolist()]\n",
    "print(bDF_keep.shape)\n",
    "\n",
    "### Let's go ahead and print the columns and descriptions that are left for future reference.\n",
    "\n",
    "for code in bDF_keep.columns:\n",
    "    if code in desc_dict.keys():\n",
    "        print(\"%s : %s\" %(code, desc_dict[code]))"
   ]
  },
  {
   "cell_type": "markdown",
   "metadata": {},
   "source": [
    "We could also define a new column based on existing columns.  If it's simple, a `pandas Series()` object will likely support it in the way you would expect.  If it's more complex you can define it yourself."
   ]
  },
  {
   "cell_type": "code",
   "execution_count": null,
   "metadata": {
    "collapsed": false
   },
   "outputs": [],
   "source": [
    "bDF_keep['new_column'] = bDF_keep['BG.GSR.NFSV.GD.ZS'] - bDF_keep['BM.KLT.DINV.WD.GD.ZS']\n",
    "\n",
    "print(bDF_keep.new_column.head())"
   ]
  },
  {
   "cell_type": "code",
   "execution_count": null,
   "metadata": {
    "collapsed": false
   },
   "outputs": [],
   "source": [
    "def ser_dist(row):\n",
    "    ret = (row['BG.GSR.NFSV.GD.ZS'] - row['BM.KLT.DINV.WD.GD.ZS']) / 2\n",
    "    if np.isnan(ret):\n",
    "        ret = 0\n",
    "    return ret\n",
    "\n",
    "# This is black magic...\n",
    "bDF_keep['another_new'] = bDF.apply(lambda x: ser_dist(x), axis = 1)\n",
    "print(bDF_keep.another_new.head())"
   ]
  },
  {
   "cell_type": "markdown",
   "metadata": {},
   "source": [
    "In this context a `lambda` function is one that is defined only in the context of that line of code... on the fly.  They can be very useful.  In fact, we could have written everything we did with `ser_avg()` into the `lambda`, but it would have been messy looking.  So, what our 'on-the-fly' lambda function does is call another function (namely `ser_avg`), and `apply` applies it to each row (we could have applied to columns by changing the `axis` argument to `0`).  \n",
    "\n",
    "### Problem #2\n",
    "Create a new column that is a binary (0 or 1) value indicating whether or not the Mobile cellular subscriptions (per 100 people) value is greater than or equal to the world average.  Hint: define the average value in the global name space. "
   ]
  },
  {
   "cell_type": "code",
   "execution_count": null,
   "metadata": {
    "collapsed": false
   },
   "outputs": [],
   "source": [
    "### Put your code in this cell.\n",
    "avg_cell = bDF_keep['IT.CEL.SETS.P2'].mean()\n",
    "def above_avg(row):\n",
    "    if row['IT.CEL.SETS.P2'] > avg_cell:\n",
    "        return 1\n",
    "    else:\n",
    "        return 0\n",
    "    \n",
    "bDF_keep['above_avg'] = bDF_keep.apply(above_avg, axis = 1)\n",
    "bDF_keep[['country_name', 'IT.CEL.SETS.P2','above_avg']].head()"
   ]
  },
  {
   "cell_type": "markdown",
   "metadata": {},
   "source": [
    "# Plotly\n",
    "There are lots of plotting libraries available for Python. `matplotlib` comes with Anaconda, `seaborn` is cool, and there are others.  The `plotly` library gives you d3.js style charts, and you can make them interactive, which is cool.  "
   ]
  },
  {
   "cell_type": "code",
   "execution_count": null,
   "metadata": {
    "collapsed": false
   },
   "outputs": [],
   "source": [
    "from plotly.offline import download_plotlyjs, init_notebook_mode, plot, iplot\n",
    "from plotly.graph_objs import Scatter, Layout, Bar\n",
    "init_notebook_mode(connected = True) # Allows us to use plotly in offline mode"
   ]
  },
  {
   "cell_type": "markdown",
   "metadata": {},
   "source": [
    "The base object of a plotly graph is a figure, and we'll usually name it `fig`.  A figure takes `data` and a `layout`.  `data` is a list object that contains one or more `trace` objects.  The `trace` object is where we define the stuff that we want plotted.  Think of it as a series in Excel.  Just like you can have more than one Excel series plotted on the same chart, you can have more than one `trace` plotted on a `plotly` chart.  Let's go through the below code line by line."
   ]
  },
  {
   "cell_type": "code",
   "execution_count": null,
   "metadata": {
    "collapsed": false
   },
   "outputs": [],
   "source": [
    "trace_ind = Scatter(\n",
    "    x = bDF_keep['NV.IND.TOTL.ZS'], \n",
    "    y = bDF_keep['NY.GDP.MKTP.KD'],\n",
    "    mode = 'markers',\n",
    "    name = 'Industry',\n",
    "    marker = dict(\n",
    "        color = '#cc7c2c'\n",
    "        )\n",
    "    )\n",
    "\n",
    "trace_agr = Scatter(\n",
    "    x = bDF_keep['NV.AGR.TOTL.ZS'], \n",
    "    y = bDF_keep['NY.GDP.MKTP.KD'],\n",
    "    mode = 'markers',\n",
    "    name = 'Agriculture',\n",
    "    marker = dict(\n",
    "        color = '#636b77'\n",
    "        )\n",
    "    )\n",
    "\n",
    "trace_srv = Scatter(\n",
    "    x = bDF_keep['NV.SRV.TETC.ZS'], \n",
    "    y = bDF_keep['NY.GDP.MKTP.KD'],\n",
    "    mode = 'markers',\n",
    "    name = 'Services',\n",
    "    marker = dict(\n",
    "        color = '#3270d3'\n",
    "        )\n",
    "    )\n",
    "\n",
    "data = [trace_ind, trace_agr, trace_srv]\n",
    "\n",
    "layout = dict(\n",
    "    title = 'Relationship between the percentage of type of value add and overall GDP',\n",
    "    hovermode = 'closest',\n",
    "    yaxis = dict(zeroline = False,\n",
    "        title = 'GDP in constant 2010 US$',\n",
    "        type = 'log'),\n",
    "    xaxis = dict(zeroline = False,\n",
    "        title = 'Percent value add',\n",
    "        )\n",
    "    )\n",
    "\n",
    "fig = dict(data = data, layout = layout)\n",
    "iplot(fig)"
   ]
  },
  {
   "cell_type": "markdown",
   "metadata": {},
   "source": [
    "We can get a lot more fancy than merely dot plots though.  For instance, let's say I wanted a bubble chart.  In this case, I'm creating a trace for each region of the world.  I don't want to manually write each trace... that's prone to errors, and I'm lazy anyway.  Instead I'll create a function that returns a tuple of my `x` value, `y` value, `sz` size (that I want my bubble to be), and `tx` text (that I want to appear when I hover over the bubble).  Note that the division of labor between the `for` loop below and the `create_trace` function is kind of artibitrary.  It would have been cleaner, for instance, if my `create_trace` actually returned a `trace` object, and then all my `for` loop would do is append each `trace` to the `data` list."
   ]
  },
  {
   "cell_type": "code",
   "execution_count": null,
   "metadata": {
    "collapsed": false
   },
   "outputs": [],
   "source": [
    "def create_trace(resp, x_name, y_name, sz_name, tx_name):\n",
    "    x = bDF_keep[x_name][bDF_keep.region == resp] # Let's talk about what's happening here\n",
    "    y = bDF_keep[y_name][bDF_keep.region == resp]\n",
    "    sz = bDF_keep[sz_name][bDF_keep.region == resp]\n",
    "    tx = bDF_keep[tx_name][bDF_keep.region == resp]\n",
    "    return (x, y, sz, tx)\n",
    "\n",
    "regions = bDF_keep.region.unique()\n",
    "data = []\n",
    "# Let's talk about where I get colors from\n",
    "colors = ['#839cc4', '#ad83c4', '#c48383', '#93c483', '#c4a283', '#83c4b8', '#7f8187']\n",
    "for i, r in enumerate(regions):\n",
    "    x_val, y_val, sz_val, tx_val = create_trace(r, 'NE.TRD.GNFS.ZS', 'NY.GDP.PCAP.CD', \n",
    "                                        'IT.NET.USER.P2', 'country_name')\n",
    "    trace_val = Scatter(\n",
    "        x = x_val,\n",
    "        y = y_val,\n",
    "        text = tx_val,\n",
    "        name = r,\n",
    "        mode = 'markers',\n",
    "        marker = dict(\n",
    "            color = colors[i],\n",
    "            size = sz_val,\n",
    "            sizemode = 'area',\n",
    "            sizemin = 1\n",
    "            ),\n",
    "        line = dict(\n",
    "            width = 2,\n",
    "            color = 'rgb(0,0,0)')\n",
    "        )\n",
    "    data.append(trace_val)\n",
    "\n",
    "layout = dict(\n",
    "    title = 'GDP, internet users per 100 ppl (size), and trade for various regions (color)',\n",
    "    hovermode = 'closest',\n",
    "    yaxis = dict(zeroline = False,\n",
    "        title = 'GDP per capita in constant 2010 US$',\n",
    "\n",
    "        ),\n",
    "    xaxis = dict(zeroline = False,\n",
    "        title = 'Trade as a percentage of GDP',\n",
    "\n",
    "        )\n",
    "    )\n",
    "\n",
    "fig = dict(data = data, layout = layout)\n",
    "iplot(fig)"
   ]
  },
  {
   "cell_type": "markdown",
   "metadata": {},
   "source": [
    "### Problem #3\n",
    "Visit [the plotly examples page](https://plot.ly/python/) and find a plot that you like.  Use our data set to recreate something.  Note that you'll have to infer where to do `pandas Series` things in place of `numpy` arrays and the like.  But that's part of the fun!"
   ]
  },
  {
   "cell_type": "code",
   "execution_count": null,
   "metadata": {
    "collapsed": true
   },
   "outputs": [],
   "source": [
    "### Code here."
   ]
  }
 ],
 "metadata": {
  "kernelspec": {
   "display_name": "Python 2",
   "language": "python",
   "name": "python2"
  },
  "language_info": {
   "codemirror_mode": {
    "name": "ipython",
    "version": 2
   },
   "file_extension": ".py",
   "mimetype": "text/x-python",
   "name": "python",
   "nbconvert_exporter": "python",
   "pygments_lexer": "ipython2",
   "version": "2.7.12"
  }
 },
 "nbformat": 4,
 "nbformat_minor": 2
}
